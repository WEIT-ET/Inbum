{
  "nbformat": 4,
  "nbformat_minor": 0,
  "metadata": {
    "colab": {
      "provenance": [],
      "authorship_tag": "ABX9TyPbg2dWD4w0oCWNDx+hDB4N",
      "include_colab_link": true
    },
    "kernelspec": {
      "name": "python3",
      "display_name": "Python 3"
    },
    "language_info": {
      "name": "python"
    }
  },
  "cells": [
    {
      "cell_type": "markdown",
      "metadata": {
        "id": "view-in-github",
        "colab_type": "text"
      },
      "source": [
        "<a href=\"https://colab.research.google.com/github/WEIT-ET/Inbum/blob/main/Untitled4.ipynb\" target=\"_parent\"><img src=\"https://colab.research.google.com/assets/colab-badge.svg\" alt=\"Open In Colab\"/></a>"
      ]
    },
    {
      "cell_type": "code",
      "execution_count": 2,
      "metadata": {
        "colab": {
          "base_uri": "https://localhost:8080/",
          "height": 143
        },
        "id": "yvvQLxCVOeva",
        "outputId": "d65610bb-6202-47fb-e49a-ce4a7c79f4ac"
      },
      "outputs": [
        {
          "output_type": "error",
          "ename": "SyntaxError",
          "evalue": "ignored",
          "traceback": [
            "\u001b[0;36m  File \u001b[0;32m\"<ipython-input-2-d2f54d78d03b>\"\u001b[0;36m, line \u001b[0;32m1\u001b[0m\n\u001b[0;31m    지도 출력 코드\u001b[0m\n\u001b[0m       ^\u001b[0m\n\u001b[0;31mSyntaxError\u001b[0m\u001b[0;31m:\u001b[0m invalid syntax\n"
          ]
        }
      ],
      "source": [
        "지도 출력 코드\n",
        "\n",
        "from google.colab import drive\n",
        "drive.mount('/content/drive')\n",
        "\n",
        "import pandas as pd\n",
        "\n",
        "# 다양한 운행 규칙 위반 데이터를 엑셀 파일에서 읽어옵니다.\n",
        "tailbite_raw = pd.read_excel('/content/drive/MyDrive/weit/꼬리물기.xlsx')\n",
        "uturn_raw = pd.read_excel('/content/drive/MyDrive/weit/불법유턴.xlsx')\n",
        "leftturn_raw = pd.read_excel('/content/drive/MyDrive/weit/불법좌회전.xlsx')\n",
        "signalvio_raw = pd.read_excel('/content/drive/MyDrive/weit/신호위반.xlsx')\n",
        "wrongway_raw = pd.read_excel('/content/drive/MyDrive/weit/역주행.xlsx')\n",
        "stoplinevio_raw = pd.read_excel('/content/drive/MyDrive/weit/정지선침범.xlsx')\n",
        "lanevio_raw = pd.read_excel('/content/drive/MyDrive/weit/중앙선침범.xlsx')\n",
        "deslanevio_raw = pd.read_excel('/content/drive/MyDrive/weit/지정차로위반.xlsx')\n",
        "improperlanechange_raw = pd.read_excel('/content/drive/MyDrive/weit/진로변경방법위반.xlsx')\n",
        "\n",
        "# '꼬리물기' 데이터프레임에서 '위도'와 '경도' 열만 선택합니다.\n",
        "tailbite = tailbite_raw[['위도', '경도']]\n",
        "\n",
        "# Folium 라이브러리를 설치합니다.\n",
        "!pip install folium\n",
        "import folium\n",
        "\n",
        "# '위도'와 '경도' 데이터를 추출합니다.\n",
        "tailbite_latitude = tailbite['위도']\n",
        "tailbite_longitude = tailbite['경도']\n",
        "\n",
        "# Folium을 사용하여 초기 지도를 생성합니다.\n",
        "m = folium.Map(location=[tailbite_latitude[0], tailbite_longitude[0]], zoom_start=14)\n",
        "\n",
        "# 데이터프레임의 각 행에 대해 위치를 추출하고, 해당 위치에 Folium을 사용하여 마커를 추가합니다.\n",
        "for x in range(len(tailbite)):\n",
        "    location = (tailbite_latitude[x], tailbite_longitude[x])\n",
        "    folium.Marker(location, icon=folium.Icon(color='blue')).add_to(m)\n",
        "\n",
        "# 다른 데이터프레임에 대한 마커 추가\n",
        "# 각각 다른 색상의 마커를 사용하여 구별합니다.\n",
        "\n",
        "# '불법유턴' 데이터프레임의 마커 추가\n",
        "uturn_latitude = uturn_raw['위도']\n",
        "uturn_longitude = uturn_raw['경도']\n",
        "for x in range(len(uturn_raw)):\n",
        "    location = (uturn_latitude[x], uturn_longitude[x])\n",
        "    folium.Marker(location, icon=folium.Icon(color='red')).add_to(m)\n",
        "\n",
        "# '불법좌회전' 데이터프레임의 마커 추가\n",
        "leftturn_latitude = leftturn_raw['위도']\n",
        "leftturn_longitude = leftturn_raw['경도']\n",
        "for x in range(len(leftturn_raw)):\n",
        "    location = (leftturn_latitude[x], leftturn_longitude[x])\n",
        "    folium.Marker(location, icon=folium.Icon(color='green')).add_to(m)\n",
        "\n",
        "# '신호위반' 데이터프레임의 마커 추가\n",
        "signalvio_latitude = signalvio_raw['위도']\n",
        "signalvio_longitude = signalvio_raw['경도']\n",
        "for x in range(len(signalvio_raw)):\n",
        "    location = (signalvio_latitude[x], signalvio_longitude[x])\n",
        "    folium.Marker(location, icon=folium.Icon(color='purple')).add_to(m)\n",
        "\n",
        "# '역주행' 데이터프레임의 마커 추가\n",
        "wrongway_latitude = wrongway_raw['위도']\n",
        "wrongway_longitude = wrongway_raw['경도']\n",
        "for x in range(len(wrongway_raw)):\n",
        "    location = (wrongway_latitude[x], wrongway_longitude[x])\n",
        "    folium.Marker(location, icon=folium.Icon(color='orange')).add_to(m)\n",
        "\n",
        "# '정지선침범' 데이터프레임의 마커 추가\n",
        "stoplinevio_latitude = stoplinevio_raw['위도']\n",
        "stoplinevio_longitude = stoplinevio_raw['경도']\n",
        "for x in range(len(stoplinevio_raw)):\n",
        "    location = (stoplinevio_latitude[x], stoplinevio_longitude[x])\n",
        "    folium.Marker(location, icon=folium.Icon(color='gray')).add_to(m)\n",
        "\n",
        "# '중앙선침범' 데이터프레임의 마커 추가\n",
        "lanevio_latitude = lanevio_raw['위도']\n",
        "lanevio_longitude = lanevio_raw['경도']\n",
        "for x in range(len(lanevio_raw)):\n",
        "    location = (lanevio_latitude[x], lanevio_longitude[x])\n",
        "    folium.Marker(location, icon=folium.Icon(color='pink')).add_to(m)\n",
        "\n",
        "# '지정차로위반' 데이터프레임의 마커 추가\n",
        "deslanevio_latitude = deslanevio_raw['위도']\n",
        "deslanevio_longitude = deslanevio_raw['경도']\n",
        "for x in range(len(deslanevio_raw)):\n",
        "    location = (deslanevio_latitude[x], deslanevio_longitude[x])\n",
        "    folium.Marker(location, icon=folium.Icon(color='brown')).add_to(m)\n",
        "\n",
        "# '진로변경방법위반' 데이터프레임의 마커 추가\n",
        "improperlanechange_latitude = improperlanechange_raw['위도']\n",
        "improperlanechange_longitude = improperlanechange_raw['경도']\n",
        "for x in range(len(improperlanechange_raw)):\n",
        "    location = (improperlanechange_latitude[x], improperlanechange_longitude[x])\n",
        "    folium.Marker(location, icon=folium.Icon(color='cadetblue')).add_to(m)\n",
        "\n",
        "# 지도를 출력합니다.\n",
        "m"
      ]
    },
    {
      "cell_type": "code",
      "source": [
        "\n",
        "from collections import defaultdict\n",
        "\n",
        "# 빈 딕셔너리를 생성하여 각 위치의 마커 수를 기록합니다.\n",
        "marker_counts = defaultdict(int)\n",
        "\n",
        "# 각 데이터프레임에 대해 위치 정보를 딕셔너리에 추가합니다.\n",
        "for df, color in [(tailbite, 'blue'), (uturn_raw, 'red'), (leftturn_raw, 'green'), (signalvio_raw, 'purple'),\n",
        "                  (wrongway_raw, 'orange'), (stoplinevio_raw, 'gray'), (lanevio_raw, 'pink'),\n",
        "                  (deslanevio_raw, 'brown'), (improperlanechange_raw, 'cadetblue')]:\n",
        "    latitude = df['위도']\n",
        "    longitude = df['경도']\n",
        "    for x in range(len(df)):\n",
        "        location = (latitude[x], longitude[x])\n",
        "        marker_counts[location] += 1\n",
        "\n",
        "# 가장 마커가 많은 위치를 찾습니다.\n",
        "most_markers_location = max(marker_counts, key=marker_counts.get)\n",
        "most_markers_count = marker_counts[most_markers_location]\n",
        "\n",
        "# 결과를 출력합니다.\n",
        "print(f\"가장 마커가 많은 위치: 위도 {most_markers_location[0]}, 경도 {most_markers_location[1]}\")\n",
        "print(f\"마커 수: {most_markers_count}\")\n",
        "```\n",
        "\n",
        "#이 코드를 실행하면 가장 마커가 많은 위치와 해당 위치의 마커 수를 출력합니다. 이렇게하면 데이터에서 가장 활발한 지역을 찾을 수 있습니다.\n",
        "\n",
        "\n",
        "\n",
        "\n",
        "#가장 마커가 많은 지역을 반경 3km 단위로 분석하기 위해서는 각 위치에서 다른 모든 위치까지의 거리를 계산하고, 일정 반경 내에 있는 다른 위치들의 마커 수를 세어야 합니다. 이를 위해 Haversine 공식을 사용하여 위도와 경도를 기반으로 두 지점 사이의 거리를 계산할 수 있습니다. 아래는 이를 수행하는 코드의 예시입니다:\n",
        "\n",
        "```python\n",
        "from haversine import haversine\n",
        "\n",
        "# 가장 마커가 많은 위치를 기준으로 선택합니다.\n",
        "base_location = most_markers_location\n",
        "\n",
        "# 반경 3km 설정 (측정 단위는 킬로미터)\n",
        "radius_km = 3.0\n",
        "\n",
        "# 반경 내에 있는 다른 위치들의 마커 수를 세기 위한 딕셔너리를 생성합니다.\n",
        "locations_in_radius = {}\n",
        "\n",
        "# 모든 위치에 대해 반경 내에 있는 위치들을 찾고 마커 수를 계산합니다.\n",
        "for location in marker_counts.keys():\n",
        "    distance = haversine(base_location, location, unit='km')\n",
        "    if distance <= radius_km:\n",
        "        locations_in_radius[location] = marker_counts[location]\n",
        "\n",
        "# 마커 수를 기준으로 정렬하여 가장 마커가 많은 위치부터 출력합니다.\n",
        "sorted_locations = sorted(locations_in_radius.items(), key=lambda x: x[1], reverse=True)\n",
        "\n",
        "for loc, count in sorted_locations:\n",
        "    print(f\"위도 {loc[0]}, 경도 {loc[1]} - 마커 수: {count}\")\n"
      ],
      "metadata": {
        "colab": {
          "base_uri": "https://localhost:8080/",
          "height": 143
        },
        "id": "6EaHnVBXOt__",
        "outputId": "d65e07ae-9b3b-4a90-c6d2-18b022e15fd8"
      },
      "execution_count": 3,
      "outputs": [
        {
          "output_type": "error",
          "ename": "SyntaxError",
          "evalue": "ignored",
          "traceback": [
            "\u001b[0;36m  File \u001b[0;32m\"<ipython-input-3-119b27a6c026>\"\u001b[0;36m, line \u001b[0;32m23\u001b[0m\n\u001b[0;31m    ```\u001b[0m\n\u001b[0m    ^\u001b[0m\n\u001b[0;31mSyntaxError\u001b[0m\u001b[0;31m:\u001b[0m invalid syntax\n"
          ]
        }
      ]
    }
  ]
}